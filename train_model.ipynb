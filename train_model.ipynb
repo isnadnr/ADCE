{
 "cells": [
  {
   "cell_type": "code",
   "execution_count": 1,
   "id": "5038b17c",
   "metadata": {},
   "outputs": [
    {
     "name": "stdout",
     "output_type": "stream",
     "text": [
      "TF version:  2.11.0\n",
      "Eager execution enabled:  True\n"
     ]
    }
   ],
   "source": [
    "import tensorflow as tf\n",
    "import tensorflow.keras as keras\n",
    "from tensorflow.keras import backend as K\n",
    "from tensorflow.keras.layers import Conv2D, Dense, Dropout, Flatten, MaxPooling2D, Input, UpSampling2D\n",
    "from tensorflow.keras.models import Model, load_model\n",
    "from tensorflow.keras.utils import to_categorical\n",
    "\n",
    "import matplotlib\n",
    "%matplotlib inline\n",
    "import matplotlib.pyplot as plt\n",
    "import numpy as np\n",
    "import os\n",
    "\n",
    "print('TF version: ', tf.__version__)\n",
    "print('Eager execution enabled: ', tf.executing_eagerly())"
   ]
  },
  {
   "cell_type": "code",
   "execution_count": 2,
   "id": "51d620c5",
   "metadata": {},
   "outputs": [
    {
     "name": "stdout",
     "output_type": "stream",
     "text": [
      "x_train shape: (60000, 28, 28) y_train shape: (60000,)\n"
     ]
    },
    {
     "data": {
      "image/png": "[encoded data removed]",
      "text/plain": [
       "<Figure size 640x480 with 1 Axes>"
      ]
     },
     "metadata": {},
     "output_type": "display_data"
    }
   ],
   "source": [
    "# import data\n",
    "(x_train, y_train), (x_test, y_test) = keras.datasets.fashion_mnist.load_data()\n",
    "print('x_train shape:', x_train.shape, 'y_train shape:', y_train.shape)\n",
    "plt.gray()\n",
    "plt.imshow(x_test[4]);"
   ]
  },
  {
   "cell_type": "code",
   "execution_count": 3,
   "id": "6e2755f4",
   "metadata": {},
   "outputs": [
    {
     "name": "stdout",
     "output_type": "stream",
     "text": [
      "x_train shape: (60000, 28, 28, 1) x_test shape: (10000, 28, 28, 1)\n",
      "y_train shape: (60000, 10) y_test shape: (10000, 10)\n"
     ]
    }
   ],
   "source": [
    "# normalize data\n",
    "from keras.utils import to_categorical\n",
    "x_train = x_train.astype('float32') / 255\n",
    "x_test = x_test.astype('float32') / 255\n",
    "x_train = np.reshape(x_train, x_train.shape + (1,))\n",
    "x_test = np.reshape(x_test, x_test.shape + (1,))\n",
    "print('x_train shape:', x_train.shape, 'x_test shape:', x_test.shape)\n",
    "y_train = to_categorical(y_train)\n",
    "y_test = to_categorical(y_test)\n",
    "print('y_train shape:', y_train.shape, 'y_test shape:', y_test.shape)"
   ]
  },
  {
   "cell_type": "code",
   "execution_count": 4,
   "id": "beec4e53",
   "metadata": {},
   "outputs": [],
   "source": [
    "# define model\n",
    "def cnn_model():\n",
    "    x_in = Input(shape=(28, 28, 1))\n",
    "    x = Conv2D(filters=32, kernel_size=3, padding='same', activation='relu')(x_in)\n",
    "    x = MaxPooling2D(pool_size=2)(x)\n",
    "    \n",
    "    x = Conv2D(filters=64, kernel_size=5, padding='same', activation='relu')(x)\n",
    "    x = MaxPooling2D(pool_size=3)(x)\n",
    "    x = Dropout(0.3)(x)\n",
    "    \n",
    "    x = Conv2D(filters=64, kernel_size=3, padding='same', activation='relu')(x)\n",
    "    x = MaxPooling2D(pool_size=2)(x)\n",
    "    x = Dropout(0.3)(x)\n",
    "    \n",
    "    x = Flatten()(x)\n",
    "    x = Dense(64, activation='relu')(x)\n",
    "    x_out = Dense(10, activation='softmax')(x)\n",
    "    \n",
    "    cnn = Model(inputs=x_in, outputs=x_out)\n",
    "    cnn.compile(loss='categorical_crossentropy', optimizer='adam', metrics=['accuracy'])\n",
    "    \n",
    "    return cnn"
   ]
  },
  {
   "cell_type": "code",
   "execution_count": 5,
   "id": "b2397a58",
   "metadata": {
    "scrolled": true
   },
   "outputs": [
    {
     "name": "stdout",
     "output_type": "stream",
     "text": [
      "Epoch 1/50\n",
      "600/600 [==============================] - 26s 42ms/step - loss: 0.6660 - accuracy: 0.7555\n",
      "Epoch 2/50\n",
      "600/600 [==============================] - 26s 43ms/step - loss: 0.4073 - accuracy: 0.8501\n",
      "Epoch 3/50\n",
      "600/600 [==============================] - 25s 41ms/step - loss: 0.3454 - accuracy: 0.8728\n",
      "Epoch 4/50\n",
      "600/600 [==============================] - 26s 43ms/step - loss: 0.3137 - accuracy: 0.8845\n",
      "Epoch 5/50\n",
      "600/600 [==============================] - 26s 44ms/step - loss: 0.2913 - accuracy: 0.8916\n",
      "Epoch 6/50\n",
      "600/600 [==============================] - 26s 43ms/step - loss: 0.2763 - accuracy: 0.8982\n",
      "Epoch 7/50\n",
      "600/600 [==============================] - 25s 42ms/step - loss: 0.2633 - accuracy: 0.9021\n",
      "Epoch 8/50\n",
      "600/600 [==============================] - 26s 43ms/step - loss: 0.2525 - accuracy: 0.9068\n",
      "Epoch 9/50\n",
      "600/600 [==============================] - 25s 42ms/step - loss: 0.2439 - accuracy: 0.9096\n",
      "Epoch 10/50\n",
      "600/600 [==============================] - 26s 43ms/step - loss: 0.2359 - accuracy: 0.9131\n",
      "Epoch 11/50\n",
      "600/600 [==============================] - 25s 42ms/step - loss: 0.2293 - accuracy: 0.9140\n",
      "Epoch 12/50\n",
      "600/600 [==============================] - 25s 42ms/step - loss: 0.2242 - accuracy: 0.9163\n",
      "Epoch 13/50\n",
      "600/600 [==============================] - 25s 42ms/step - loss: 0.2190 - accuracy: 0.9179\n",
      "Epoch 14/50\n",
      "600/600 [==============================] - 25s 42ms/step - loss: 0.2107 - accuracy: 0.9216\n",
      "Epoch 15/50\n",
      "600/600 [==============================] - 25s 42ms/step - loss: 0.2088 - accuracy: 0.9218\n",
      "Epoch 16/50\n",
      "600/600 [==============================] - 25s 42ms/step - loss: 0.2042 - accuracy: 0.9234\n",
      "Epoch 17/50\n",
      "600/600 [==============================] - 25s 42ms/step - loss: 0.1990 - accuracy: 0.9258\n",
      "Epoch 18/50\n",
      "600/600 [==============================] - 25s 42ms/step - loss: 0.1968 - accuracy: 0.9264\n",
      "Epoch 19/50\n",
      "600/600 [==============================] - 25s 42ms/step - loss: 0.1919 - accuracy: 0.9279\n",
      "Epoch 20/50\n",
      "600/600 [==============================] - 25s 41ms/step - loss: 0.1894 - accuracy: 0.9286\n",
      "Epoch 21/50\n",
      "600/600 [==============================] - 25s 41ms/step - loss: 0.1864 - accuracy: 0.9302\n",
      "Epoch 22/50\n",
      "600/600 [==============================] - 25s 42ms/step - loss: 0.1827 - accuracy: 0.9318\n",
      "Epoch 23/50\n",
      "600/600 [==============================] - 25s 42ms/step - loss: 0.1808 - accuracy: 0.9320\n",
      "Epoch 24/50\n",
      "600/600 [==============================] - 25s 42ms/step - loss: 0.1804 - accuracy: 0.9318\n",
      "Epoch 25/50\n",
      "600/600 [==============================] - 25s 42ms/step - loss: 0.1751 - accuracy: 0.9341\n",
      "Epoch 26/50\n",
      "600/600 [==============================] - 24s 41ms/step - loss: 0.1727 - accuracy: 0.9341\n",
      "Epoch 27/50\n",
      "600/600 [==============================] - 25s 41ms/step - loss: 0.1718 - accuracy: 0.9356\n",
      "Epoch 28/50\n",
      "600/600 [==============================] - 25s 41ms/step - loss: 0.1682 - accuracy: 0.9361\n",
      "Epoch 29/50\n",
      "600/600 [==============================] - 25s 42ms/step - loss: 0.1673 - accuracy: 0.9358\n",
      "Epoch 30/50\n",
      "600/600 [==============================] - 25s 41ms/step - loss: 0.1646 - accuracy: 0.9386\n",
      "Epoch 31/50\n",
      "600/600 [==============================] - 25s 42ms/step - loss: 0.1618 - accuracy: 0.9380\n",
      "Epoch 32/50\n",
      "600/600 [==============================] - 25s 42ms/step - loss: 0.1626 - accuracy: 0.9376\n",
      "Epoch 33/50\n",
      "600/600 [==============================] - 25s 42ms/step - loss: 0.1592 - accuracy: 0.9393\n",
      "Epoch 34/50\n",
      "600/600 [==============================] - 25s 42ms/step - loss: 0.1586 - accuracy: 0.9395\n",
      "Epoch 35/50\n",
      "600/600 [==============================] - 25s 42ms/step - loss: 0.1591 - accuracy: 0.9389\n",
      "Epoch 36/50\n",
      "600/600 [==============================] - 25s 42ms/step - loss: 0.1564 - accuracy: 0.9408\n",
      "Epoch 37/50\n",
      "600/600 [==============================] - 25s 41ms/step - loss: 0.1546 - accuracy: 0.9418\n",
      "Epoch 38/50\n",
      "600/600 [==============================] - 25s 42ms/step - loss: 0.1497 - accuracy: 0.9425\n",
      "Epoch 39/50\n",
      "600/600 [==============================] - 25s 42ms/step - loss: 0.1525 - accuracy: 0.9414\n",
      "Epoch 40/50\n",
      "600/600 [==============================] - 24s 41ms/step - loss: 0.1515 - accuracy: 0.9425\n",
      "Epoch 41/50\n",
      "600/600 [==============================] - 25s 42ms/step - loss: 0.1485 - accuracy: 0.9439\n",
      "Epoch 42/50\n",
      "600/600 [==============================] - 25s 42ms/step - loss: 0.1460 - accuracy: 0.9458\n",
      "Epoch 43/50\n",
      "600/600 [==============================] - 25s 42ms/step - loss: 0.1465 - accuracy: 0.9444\n",
      "Epoch 44/50\n",
      "600/600 [==============================] - 24s 41ms/step - loss: 0.1448 - accuracy: 0.9446\n",
      "Epoch 45/50\n",
      "600/600 [==============================] - 24s 41ms/step - loss: 0.1429 - accuracy: 0.9456\n",
      "Epoch 46/50\n",
      "600/600 [==============================] - 24s 41ms/step - loss: 0.1423 - accuracy: 0.9461\n",
      "Epoch 47/50\n",
      "600/600 [==============================] - 25s 42ms/step - loss: 0.1413 - accuracy: 0.9476\n",
      "Epoch 48/50\n",
      "600/600 [==============================] - 25s 41ms/step - loss: 0.1408 - accuracy: 0.9463\n",
      "Epoch 49/50\n",
      "600/600 [==============================] - 25s 41ms/step - loss: 0.1383 - accuracy: 0.9474\n",
      "Epoch 50/50\n",
      "600/600 [==============================] - 24s 41ms/step - loss: 0.1374 - accuracy: 0.9482\n"
     ]
    },
    {
     "data": {
      "text/plain": [
       "<keras.callbacks.History at 0x2818043a340>"
      ]
     },
     "execution_count": 5,
     "metadata": {},
     "output_type": "execute_result"
    }
   ],
   "source": [
    "# train model\n",
    "cnn = cnn_model()\n",
    "cnn.fit(x_train, y_train, batch_size=100, epochs=50, verbose=1)"
   ]
  },
  {
   "cell_type": "code",
   "execution_count": 6,
   "id": "c712df9e",
   "metadata": {},
   "outputs": [
    {
     "name": "stdout",
     "output_type": "stream",
     "text": [
      "Test accuracy:  92.5499975681305\n"
     ]
    }
   ],
   "source": [
    "# test model with test data\n",
    "score = cnn.evaluate(x_test, y_test, verbose=0)\n",
    "print('Test accuracy: ', score[1]*100)"
   ]
  },
  {
   "cell_type": "code",
   "execution_count": 8,
   "id": "66d4bdc9",
   "metadata": {},
   "outputs": [
    {
     "name": "stdout",
     "output_type": "stream",
     "text": [
      "Model saved\n"
     ]
    }
   ],
   "source": [
    "# save the model\n",
    "cnn.save('fmnist_cnn.h5', save_format='h5')\n",
    "print(\"Model saved\")"
   ]
  },
  {
   "cell_type": "code",
   "execution_count": 9,
   "id": "21463075",
   "metadata": {},
   "outputs": [
    {
     "name": "stdout",
     "output_type": "stream",
     "text": [
      "Test accuracy:  0.9254999756813049\n"
     ]
    },
    {
     "data": {
      "text/plain": [
       "(None, (10000, 28, 28, 1))"
      ]
     },
     "execution_count": 9,
     "metadata": {},
     "output_type": "execute_result"
    }
   ],
   "source": [
    "# load the model\n",
    "model = load_model('fmnist_cnn.h5')\n",
    "score = model.evaluate(x_test, y_test, verbose=0)\n",
    "print('Test accuracy: ', score[1]),x_test.shape"
   ]
  },
  {
   "cell_type": "code",
   "execution_count": null,
   "id": "3bfc2c5c",
   "metadata": {},
   "outputs": [],
   "source": []
  }
 ],
 "metadata": {
  "kernelspec": {
   "display_name": "Python 3 (ipykernel)",
   "language": "python",
   "name": "python3"
  },
  "language_info": {
   "codemirror_mode": {
    "name": "ipython",
    "version": 3
   },
   "file_extension": ".py",
   "mimetype": "text/x-python",
   "name": "python",
   "nbconvert_exporter": "python",
   "pygments_lexer": "ipython3",
   "version": "3.9.13"
  }
 },
 "nbformat": 4,
 "nbformat_minor": 5
}
